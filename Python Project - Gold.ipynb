{
 "cells": [
  {
   "cell_type": "code",
   "execution_count": 1,
   "id": "c23f81f9",
   "metadata": {},
   "outputs": [],
   "source": [
    "import pandas as pd\n",
    "import numpy as np\n",
    "import matplotlib.pyplot as plt"
   ]
  },
  {
   "cell_type": "code",
   "execution_count": 2,
   "id": "363bebea",
   "metadata": {},
   "outputs": [],
   "source": [
    "df = pd.read_csv('gold.csv')"
   ]
  },
  {
   "cell_type": "code",
   "execution_count": 3,
   "id": "efb358dc",
   "metadata": {},
   "outputs": [
    {
     "data": {
      "text/html": [
       "<div>\n",
       "<style scoped>\n",
       "    .dataframe tbody tr th:only-of-type {\n",
       "        vertical-align: middle;\n",
       "    }\n",
       "\n",
       "    .dataframe tbody tr th {\n",
       "        vertical-align: top;\n",
       "    }\n",
       "\n",
       "    .dataframe thead th {\n",
       "        text-align: right;\n",
       "    }\n",
       "</style>\n",
       "<table border=\"1\" class=\"dataframe\">\n",
       "  <thead>\n",
       "    <tr style=\"text-align: right;\">\n",
       "      <th></th>\n",
       "      <th>Date</th>\n",
       "      <th>Open</th>\n",
       "      <th>High</th>\n",
       "      <th>Low</th>\n",
       "      <th>Close</th>\n",
       "      <th>Volume</th>\n",
       "      <th>Currency</th>\n",
       "    </tr>\n",
       "  </thead>\n",
       "  <tbody>\n",
       "    <tr>\n",
       "      <th>0</th>\n",
       "      <td>2000-01-04</td>\n",
       "      <td>281.0</td>\n",
       "      <td>281.00</td>\n",
       "      <td>281.0</td>\n",
       "      <td>282.7</td>\n",
       "      <td>4</td>\n",
       "      <td>USD</td>\n",
       "    </tr>\n",
       "    <tr>\n",
       "      <th>1</th>\n",
       "      <td>2000-01-05</td>\n",
       "      <td>283.2</td>\n",
       "      <td>283.20</td>\n",
       "      <td>283.2</td>\n",
       "      <td>281.1</td>\n",
       "      <td>16</td>\n",
       "      <td>USD</td>\n",
       "    </tr>\n",
       "    <tr>\n",
       "      <th>2</th>\n",
       "      <td>2000-01-06</td>\n",
       "      <td>281.4</td>\n",
       "      <td>281.40</td>\n",
       "      <td>281.4</td>\n",
       "      <td>281.4</td>\n",
       "      <td>0</td>\n",
       "      <td>USD</td>\n",
       "    </tr>\n",
       "    <tr>\n",
       "      <th>3</th>\n",
       "      <td>2000-01-07</td>\n",
       "      <td>281.9</td>\n",
       "      <td>281.90</td>\n",
       "      <td>281.9</td>\n",
       "      <td>281.9</td>\n",
       "      <td>0</td>\n",
       "      <td>USD</td>\n",
       "    </tr>\n",
       "    <tr>\n",
       "      <th>4</th>\n",
       "      <td>2000-01-10</td>\n",
       "      <td>281.7</td>\n",
       "      <td>281.70</td>\n",
       "      <td>281.7</td>\n",
       "      <td>281.7</td>\n",
       "      <td>0</td>\n",
       "      <td>USD</td>\n",
       "    </tr>\n",
       "    <tr>\n",
       "      <th>...</th>\n",
       "      <td>...</td>\n",
       "      <td>...</td>\n",
       "      <td>...</td>\n",
       "      <td>...</td>\n",
       "      <td>...</td>\n",
       "      <td>...</td>\n",
       "      <td>...</td>\n",
       "    </tr>\n",
       "    <tr>\n",
       "      <th>5701</th>\n",
       "      <td>2022-04-13</td>\n",
       "      <td>1970.5</td>\n",
       "      <td>1985.80</td>\n",
       "      <td>1966.3</td>\n",
       "      <td>1984.7</td>\n",
       "      <td>132029</td>\n",
       "      <td>USD</td>\n",
       "    </tr>\n",
       "    <tr>\n",
       "      <th>5702</th>\n",
       "      <td>2022-04-14</td>\n",
       "      <td>1981.6</td>\n",
       "      <td>1984.00</td>\n",
       "      <td>1962.7</td>\n",
       "      <td>1974.9</td>\n",
       "      <td>139424</td>\n",
       "      <td>USD</td>\n",
       "    </tr>\n",
       "    <tr>\n",
       "      <th>5703</th>\n",
       "      <td>2022-04-18</td>\n",
       "      <td>1978.5</td>\n",
       "      <td>2003.00</td>\n",
       "      <td>1974.4</td>\n",
       "      <td>1986.4</td>\n",
       "      <td>138130</td>\n",
       "      <td>USD</td>\n",
       "    </tr>\n",
       "    <tr>\n",
       "      <th>5704</th>\n",
       "      <td>2022-04-19</td>\n",
       "      <td>1981.2</td>\n",
       "      <td>1985.10</td>\n",
       "      <td>1945.5</td>\n",
       "      <td>1959.0</td>\n",
       "      <td>181440</td>\n",
       "      <td>USD</td>\n",
       "    </tr>\n",
       "    <tr>\n",
       "      <th>5705</th>\n",
       "      <td>2022-04-20</td>\n",
       "      <td>1952.1</td>\n",
       "      <td>1957.35</td>\n",
       "      <td>1941.2</td>\n",
       "      <td>1956.3</td>\n",
       "      <td>0</td>\n",
       "      <td>USD</td>\n",
       "    </tr>\n",
       "  </tbody>\n",
       "</table>\n",
       "<p>5706 rows × 7 columns</p>\n",
       "</div>"
      ],
      "text/plain": [
       "            Date    Open     High     Low   Close  Volume Currency\n",
       "0     2000-01-04   281.0   281.00   281.0   282.7       4      USD\n",
       "1     2000-01-05   283.2   283.20   283.2   281.1      16      USD\n",
       "2     2000-01-06   281.4   281.40   281.4   281.4       0      USD\n",
       "3     2000-01-07   281.9   281.90   281.9   281.9       0      USD\n",
       "4     2000-01-10   281.7   281.70   281.7   281.7       0      USD\n",
       "...          ...     ...      ...     ...     ...     ...      ...\n",
       "5701  2022-04-13  1970.5  1985.80  1966.3  1984.7  132029      USD\n",
       "5702  2022-04-14  1981.6  1984.00  1962.7  1974.9  139424      USD\n",
       "5703  2022-04-18  1978.5  2003.00  1974.4  1986.4  138130      USD\n",
       "5704  2022-04-19  1981.2  1985.10  1945.5  1959.0  181440      USD\n",
       "5705  2022-04-20  1952.1  1957.35  1941.2  1956.3       0      USD\n",
       "\n",
       "[5706 rows x 7 columns]"
      ]
     },
     "execution_count": 3,
     "metadata": {},
     "output_type": "execute_result"
    }
   ],
   "source": [
    "df"
   ]
  },
  {
   "cell_type": "code",
   "execution_count": 48,
   "id": "8c2dca57",
   "metadata": {},
   "outputs": [
    {
     "data": {
      "text/html": [
       "<div>\n",
       "<style scoped>\n",
       "    .dataframe tbody tr th:only-of-type {\n",
       "        vertical-align: middle;\n",
       "    }\n",
       "\n",
       "    .dataframe tbody tr th {\n",
       "        vertical-align: top;\n",
       "    }\n",
       "\n",
       "    .dataframe thead th {\n",
       "        text-align: right;\n",
       "    }\n",
       "</style>\n",
       "<table border=\"1\" class=\"dataframe\">\n",
       "  <thead>\n",
       "    <tr style=\"text-align: right;\">\n",
       "      <th></th>\n",
       "      <th>Date</th>\n",
       "      <th>Open</th>\n",
       "      <th>High</th>\n",
       "      <th>Low</th>\n",
       "      <th>Close</th>\n",
       "      <th>Volume</th>\n",
       "      <th>Currency</th>\n",
       "    </tr>\n",
       "  </thead>\n",
       "  <tbody>\n",
       "    <tr>\n",
       "      <th>0</th>\n",
       "      <td>2000-01-04</td>\n",
       "      <td>281.0</td>\n",
       "      <td>281.0</td>\n",
       "      <td>281.0</td>\n",
       "      <td>282.7</td>\n",
       "      <td>4</td>\n",
       "      <td>USD</td>\n",
       "    </tr>\n",
       "    <tr>\n",
       "      <th>1</th>\n",
       "      <td>2000-01-05</td>\n",
       "      <td>283.2</td>\n",
       "      <td>283.2</td>\n",
       "      <td>283.2</td>\n",
       "      <td>281.1</td>\n",
       "      <td>16</td>\n",
       "      <td>USD</td>\n",
       "    </tr>\n",
       "    <tr>\n",
       "      <th>2</th>\n",
       "      <td>2000-01-06</td>\n",
       "      <td>281.4</td>\n",
       "      <td>281.4</td>\n",
       "      <td>281.4</td>\n",
       "      <td>281.4</td>\n",
       "      <td>0</td>\n",
       "      <td>USD</td>\n",
       "    </tr>\n",
       "    <tr>\n",
       "      <th>3</th>\n",
       "      <td>2000-01-07</td>\n",
       "      <td>281.9</td>\n",
       "      <td>281.9</td>\n",
       "      <td>281.9</td>\n",
       "      <td>281.9</td>\n",
       "      <td>0</td>\n",
       "      <td>USD</td>\n",
       "    </tr>\n",
       "    <tr>\n",
       "      <th>4</th>\n",
       "      <td>2000-01-10</td>\n",
       "      <td>281.7</td>\n",
       "      <td>281.7</td>\n",
       "      <td>281.7</td>\n",
       "      <td>281.7</td>\n",
       "      <td>0</td>\n",
       "      <td>USD</td>\n",
       "    </tr>\n",
       "  </tbody>\n",
       "</table>\n",
       "</div>"
      ],
      "text/plain": [
       "         Date   Open   High    Low  Close  Volume Currency\n",
       "0  2000-01-04  281.0  281.0  281.0  282.7       4      USD\n",
       "1  2000-01-05  283.2  283.2  283.2  281.1      16      USD\n",
       "2  2000-01-06  281.4  281.4  281.4  281.4       0      USD\n",
       "3  2000-01-07  281.9  281.9  281.9  281.9       0      USD\n",
       "4  2000-01-10  281.7  281.7  281.7  281.7       0      USD"
      ]
     },
     "execution_count": 48,
     "metadata": {},
     "output_type": "execute_result"
    }
   ],
   "source": [
    "df.head(5)"
   ]
  },
  {
   "cell_type": "code",
   "execution_count": 57,
   "id": "6ee6973b",
   "metadata": {},
   "outputs": [
    {
     "data": {
      "text/html": [
       "<div>\n",
       "<style scoped>\n",
       "    .dataframe tbody tr th:only-of-type {\n",
       "        vertical-align: middle;\n",
       "    }\n",
       "\n",
       "    .dataframe tbody tr th {\n",
       "        vertical-align: top;\n",
       "    }\n",
       "\n",
       "    .dataframe thead th {\n",
       "        text-align: right;\n",
       "    }\n",
       "</style>\n",
       "<table border=\"1\" class=\"dataframe\">\n",
       "  <thead>\n",
       "    <tr style=\"text-align: right;\">\n",
       "      <th></th>\n",
       "      <th>Date</th>\n",
       "      <th>Open</th>\n",
       "      <th>High</th>\n",
       "      <th>Low</th>\n",
       "      <th>Close</th>\n",
       "      <th>Volume</th>\n",
       "      <th>Currency</th>\n",
       "    </tr>\n",
       "  </thead>\n",
       "  <tbody>\n",
       "    <tr>\n",
       "      <th>5705</th>\n",
       "      <td>2022-04-20</td>\n",
       "      <td>1952.1</td>\n",
       "      <td>1957.35</td>\n",
       "      <td>1941.2</td>\n",
       "      <td>1956.3</td>\n",
       "      <td>0</td>\n",
       "      <td>USD</td>\n",
       "    </tr>\n",
       "    <tr>\n",
       "      <th>877</th>\n",
       "      <td>2003-07-15</td>\n",
       "      <td>342.1</td>\n",
       "      <td>342.10</td>\n",
       "      <td>342.1</td>\n",
       "      <td>342.1</td>\n",
       "      <td>0</td>\n",
       "      <td>USD</td>\n",
       "    </tr>\n",
       "    <tr>\n",
       "      <th>879</th>\n",
       "      <td>2003-07-17</td>\n",
       "      <td>344.2</td>\n",
       "      <td>344.20</td>\n",
       "      <td>344.2</td>\n",
       "      <td>344.2</td>\n",
       "      <td>0</td>\n",
       "      <td>USD</td>\n",
       "    </tr>\n",
       "    <tr>\n",
       "      <th>880</th>\n",
       "      <td>2003-07-18</td>\n",
       "      <td>347.2</td>\n",
       "      <td>347.20</td>\n",
       "      <td>347.2</td>\n",
       "      <td>347.2</td>\n",
       "      <td>0</td>\n",
       "      <td>USD</td>\n",
       "    </tr>\n",
       "    <tr>\n",
       "      <th>881</th>\n",
       "      <td>2003-07-21</td>\n",
       "      <td>350.9</td>\n",
       "      <td>350.90</td>\n",
       "      <td>350.9</td>\n",
       "      <td>350.9</td>\n",
       "      <td>0</td>\n",
       "      <td>USD</td>\n",
       "    </tr>\n",
       "    <tr>\n",
       "      <th>...</th>\n",
       "      <td>...</td>\n",
       "      <td>...</td>\n",
       "      <td>...</td>\n",
       "      <td>...</td>\n",
       "      <td>...</td>\n",
       "      <td>...</td>\n",
       "      <td>...</td>\n",
       "    </tr>\n",
       "    <tr>\n",
       "      <th>5692</th>\n",
       "      <td>2022-03-31</td>\n",
       "      <td>1937.3</td>\n",
       "      <td>1955.00</td>\n",
       "      <td>1923.0</td>\n",
       "      <td>1954.0</td>\n",
       "      <td>155299</td>\n",
       "      <td>USD</td>\n",
       "    </tr>\n",
       "    <tr>\n",
       "      <th>5700</th>\n",
       "      <td>2022-04-12</td>\n",
       "      <td>1957.4</td>\n",
       "      <td>1982.70</td>\n",
       "      <td>1953.0</td>\n",
       "      <td>1976.1</td>\n",
       "      <td>172386</td>\n",
       "      <td>USD</td>\n",
       "    </tr>\n",
       "    <tr>\n",
       "      <th>5704</th>\n",
       "      <td>2022-04-19</td>\n",
       "      <td>1981.2</td>\n",
       "      <td>1985.10</td>\n",
       "      <td>1945.5</td>\n",
       "      <td>1959.0</td>\n",
       "      <td>181440</td>\n",
       "      <td>USD</td>\n",
       "    </tr>\n",
       "    <tr>\n",
       "      <th>5699</th>\n",
       "      <td>2022-04-11</td>\n",
       "      <td>1949.6</td>\n",
       "      <td>1974.60</td>\n",
       "      <td>1942.9</td>\n",
       "      <td>1948.2</td>\n",
       "      <td>184385</td>\n",
       "      <td>USD</td>\n",
       "    </tr>\n",
       "    <tr>\n",
       "      <th>5690</th>\n",
       "      <td>2022-03-29</td>\n",
       "      <td>1927.2</td>\n",
       "      <td>1934.40</td>\n",
       "      <td>1893.2</td>\n",
       "      <td>1918.0</td>\n",
       "      <td>214605</td>\n",
       "      <td>USD</td>\n",
       "    </tr>\n",
       "  </tbody>\n",
       "</table>\n",
       "<p>5706 rows × 7 columns</p>\n",
       "</div>"
      ],
      "text/plain": [
       "            Date    Open     High     Low   Close  Volume Currency\n",
       "5705  2022-04-20  1952.1  1957.35  1941.2  1956.3       0      USD\n",
       "877   2003-07-15   342.1   342.10   342.1   342.1       0      USD\n",
       "879   2003-07-17   344.2   344.20   344.2   344.2       0      USD\n",
       "880   2003-07-18   347.2   347.20   347.2   347.2       0      USD\n",
       "881   2003-07-21   350.9   350.90   350.9   350.9       0      USD\n",
       "...          ...     ...      ...     ...     ...     ...      ...\n",
       "5692  2022-03-31  1937.3  1955.00  1923.0  1954.0  155299      USD\n",
       "5700  2022-04-12  1957.4  1982.70  1953.0  1976.1  172386      USD\n",
       "5704  2022-04-19  1981.2  1985.10  1945.5  1959.0  181440      USD\n",
       "5699  2022-04-11  1949.6  1974.60  1942.9  1948.2  184385      USD\n",
       "5690  2022-03-29  1927.2  1934.40  1893.2  1918.0  214605      USD\n",
       "\n",
       "[5706 rows x 7 columns]"
      ]
     },
     "execution_count": 57,
     "metadata": {},
     "output_type": "execute_result"
    }
   ],
   "source": [
    "df.sort_values(['Volume'])"
   ]
  },
  {
   "cell_type": "code",
   "execution_count": 63,
   "id": "77af64cc",
   "metadata": {},
   "outputs": [
    {
     "data": {
      "text/html": [
       "<div>\n",
       "<style scoped>\n",
       "    .dataframe tbody tr th:only-of-type {\n",
       "        vertical-align: middle;\n",
       "    }\n",
       "\n",
       "    .dataframe tbody tr th {\n",
       "        vertical-align: top;\n",
       "    }\n",
       "\n",
       "    .dataframe thead th {\n",
       "        text-align: right;\n",
       "    }\n",
       "</style>\n",
       "<table border=\"1\" class=\"dataframe\">\n",
       "  <thead>\n",
       "    <tr style=\"text-align: right;\">\n",
       "      <th></th>\n",
       "      <th>Open</th>\n",
       "      <th>Low</th>\n",
       "      <th>Close</th>\n",
       "      <th>Volume</th>\n",
       "    </tr>\n",
       "    <tr>\n",
       "      <th>High</th>\n",
       "      <th></th>\n",
       "      <th></th>\n",
       "      <th></th>\n",
       "      <th></th>\n",
       "    </tr>\n",
       "  </thead>\n",
       "  <tbody>\n",
       "    <tr>\n",
       "      <th>255.0</th>\n",
       "      <td>255.0</td>\n",
       "      <td>255.0</td>\n",
       "      <td>256.1</td>\n",
       "      <td>2</td>\n",
       "    </tr>\n",
       "    <tr>\n",
       "      <th>257.0</th>\n",
       "      <td>257.0</td>\n",
       "      <td>257.0</td>\n",
       "      <td>258.1</td>\n",
       "      <td>2</td>\n",
       "    </tr>\n",
       "    <tr>\n",
       "      <th>257.8</th>\n",
       "      <td>257.2</td>\n",
       "      <td>255.0</td>\n",
       "      <td>255.6</td>\n",
       "      <td>2479</td>\n",
       "    </tr>\n",
       "    <tr>\n",
       "      <th>258.2</th>\n",
       "      <td>256.7</td>\n",
       "      <td>256.6</td>\n",
       "      <td>258.2</td>\n",
       "      <td>24</td>\n",
       "    </tr>\n",
       "    <tr>\n",
       "      <th>258.3</th>\n",
       "      <td>258.3</td>\n",
       "      <td>256.6</td>\n",
       "      <td>257.3</td>\n",
       "      <td>28</td>\n",
       "    </tr>\n",
       "    <tr>\n",
       "      <th>...</th>\n",
       "      <td>...</td>\n",
       "      <td>...</td>\n",
       "      <td>...</td>\n",
       "      <td>...</td>\n",
       "    </tr>\n",
       "    <tr>\n",
       "      <th>2080.0</th>\n",
       "      <td>2068.7</td>\n",
       "      <td>2065.0</td>\n",
       "      <td>2091.7</td>\n",
       "      <td>88</td>\n",
       "    </tr>\n",
       "    <tr>\n",
       "      <th>2082.0</th>\n",
       "      <td>2004.1</td>\n",
       "      <td>1989.6</td>\n",
       "      <td>2046.7</td>\n",
       "      <td>73704</td>\n",
       "    </tr>\n",
       "    <tr>\n",
       "      <th>2098.5</th>\n",
       "      <td>2098.5</td>\n",
       "      <td>2090.5</td>\n",
       "      <td>2100.8</td>\n",
       "      <td>3</td>\n",
       "    </tr>\n",
       "    <tr>\n",
       "      <th>2115.0</th>\n",
       "      <td>2086.7</td>\n",
       "      <td>2085.9</td>\n",
       "      <td>2122.7</td>\n",
       "      <td>32</td>\n",
       "    </tr>\n",
       "    <tr>\n",
       "      <th>2121.7</th>\n",
       "      <td>2121.7</td>\n",
       "      <td>2121.7</td>\n",
       "      <td>2080.5</td>\n",
       "      <td>1</td>\n",
       "    </tr>\n",
       "  </tbody>\n",
       "</table>\n",
       "<p>4358 rows × 4 columns</p>\n",
       "</div>"
      ],
      "text/plain": [
       "          Open     Low   Close  Volume\n",
       "High                                  \n",
       "255.0    255.0   255.0   256.1       2\n",
       "257.0    257.0   257.0   258.1       2\n",
       "257.8    257.2   255.0   255.6    2479\n",
       "258.2    256.7   256.6   258.2      24\n",
       "258.3    258.3   256.6   257.3      28\n",
       "...        ...     ...     ...     ...\n",
       "2080.0  2068.7  2065.0  2091.7      88\n",
       "2082.0  2004.1  1989.6  2046.7   73704\n",
       "2098.5  2098.5  2090.5  2100.8       3\n",
       "2115.0  2086.7  2085.9  2122.7      32\n",
       "2121.7  2121.7  2121.7  2080.5       1\n",
       "\n",
       "[4358 rows x 4 columns]"
      ]
     },
     "execution_count": 63,
     "metadata": {},
     "output_type": "execute_result"
    }
   ],
   "source": [
    "df.groupby('High').sum()"
   ]
  },
  {
   "cell_type": "code",
   "execution_count": 61,
   "id": "a72e8044",
   "metadata": {},
   "outputs": [
    {
     "data": {
      "text/plain": [
       "count    5706.000000\n",
       "mean     1055.134048\n",
       "std       524.396437\n",
       "min       255.000000\n",
       "25%       462.850000\n",
       "50%      1226.950000\n",
       "75%      1410.975000\n",
       "max      2121.700000\n",
       "Name: High, dtype: float64"
      ]
     },
     "execution_count": 61,
     "metadata": {},
     "output_type": "execute_result"
    }
   ],
   "source": [
    "df['High'].describe()"
   ]
  },
  {
   "cell_type": "code",
   "execution_count": 65,
   "id": "fdef1f75",
   "metadata": {},
   "outputs": [
    {
     "data": {
      "text/plain": [
       "<AxesSubplot:xlabel='Date'>"
      ]
     },
     "execution_count": 65,
     "metadata": {},
     "output_type": "execute_result"
    },
    {
     "data": {
      "image/png": "[encoded data removed]",
      "text/plain": [
       "<Figure size 432x288 with 1 Axes>"
      ]
     },
     "metadata": {
      "needs_background": "light"
     },
     "output_type": "display_data"
    }
   ],
   "source": [
    "df[['High','Date']].plot(x = 'Date', y ='High')"
   ]
  },
  {
   "cell_type": "code",
   "execution_count": 67,
   "id": "11f19425",
   "metadata": {},
   "outputs": [
    {
     "data": {
      "text/plain": [
       "<AxesSubplot:xlabel='Date'>"
      ]
     },
     "execution_count": 67,
     "metadata": {},
     "output_type": "execute_result"
    },
    {
     "data": {
      "image/png": "[encoded data removed]",
      "text/plain": [
       "<Figure size 432x288 with 1 Axes>"
      ]
     },
     "metadata": {
      "needs_background": "light"
     },
     "output_type": "display_data"
    }
   ],
   "source": [
    "df.loc['2000-01-04':'2012-12-31'].plot(x = 'Date', y ='Volume')"
   ]
  },
  {
   "cell_type": "code",
   "execution_count": 6,
   "id": "a27b8abd",
   "metadata": {},
   "outputs": [
    {
     "data": {
      "text/plain": [
       "<AxesSubplot:xlabel='Date'>"
      ]
     },
     "execution_count": 6,
     "metadata": {},
     "output_type": "execute_result"
    },
    {
     "data": {
      "image/png": "[encoded data removed]",
      "text/plain": [
       "<Figure size 432x288 with 1 Axes>"
      ]
     },
     "metadata": {
      "needs_background": "light"
     },
     "output_type": "display_data"
    }
   ],
   "source": [
    "df.plot.area(x = 'Date')"
   ]
  },
  {
   "cell_type": "code",
   "execution_count": 7,
   "id": "8258fb80",
   "metadata": {},
   "outputs": [
    {
     "data": {
      "text/plain": [
       "<AxesSubplot:xlabel='Date', ylabel='High'>"
      ]
     },
     "execution_count": 7,
     "metadata": {},
     "output_type": "execute_result"
    },
    {
     "data": {
      "image/png": "[encoded data removed]",
      "text/plain": [
       "<Figure size 432x288 with 1 Axes>"
      ]
     },
     "metadata": {
      "needs_background": "light"
     },
     "output_type": "display_data"
    }
   ],
   "source": [
    "df.plot.scatter(x='Date', y='High')"
   ]
  },
  {
   "cell_type": "code",
   "execution_count": 72,
   "id": "bcfcf051",
   "metadata": {},
   "outputs": [
    {
     "data": {
      "image/png": "[encoded data removed]",
      "text/plain": [
       "<Figure size 432x288 with 1 Axes>"
      ]
     },
     "metadata": {
      "needs_background": "light"
     },
     "output_type": "display_data"
    }
   ],
   "source": [
    "ax = df.plot.scatter(x=\"Date\", y=\"Low\", color=\"Red\", label=\"Low\")\n",
    "\n",
    "df.plot.scatter(x=\"Date\", y=\"High\", color=\"Green\", label=\"High\", ax=ax);"
   ]
  },
  {
   "cell_type": "code",
   "execution_count": 35,
   "id": "fecf2c49",
   "metadata": {},
   "outputs": [
    {
     "data": {
      "text/plain": [
       "<AxesSubplot:xlabel='Date'>"
      ]
     },
     "execution_count": 35,
     "metadata": {},
     "output_type": "execute_result"
    },
    {
     "data": {
      "image/png": "[encoded data removed]",
      "text/plain": [
       "<Figure size 432x288 with 1 Axes>"
      ]
     },
     "metadata": {
      "needs_background": "light"
     },
     "output_type": "display_data"
    }
   ],
   "source": [
    "df.plot.area(x = 'Date')"
   ]
  },
  {
   "cell_type": "code",
   "execution_count": 41,
   "id": "ec8ec4a7",
   "metadata": {},
   "outputs": [],
   "source": [
    "df2 = df.drop(columns=['Volume', 'Open', 'Close'])"
   ]
  },
  {
   "cell_type": "code",
   "execution_count": 42,
   "id": "da9b7aa3",
   "metadata": {},
   "outputs": [
    {
     "data": {
      "image/png": "[encoded data removed]",
      "text/plain": [
       "<Figure size 432x288 with 1 Axes>"
      ]
     },
     "metadata": {
      "needs_background": "light"
     },
     "output_type": "display_data"
    }
   ],
   "source": [
    "df2.plot.bar(x = 'Date')\n",
    "_=plt.xticks(rotation=90)\n",
    "plt.locator_params(axis = 'x', nbins=20)"
   ]
  },
  {
   "cell_type": "code",
   "execution_count": 56,
   "id": "1f526bde",
   "metadata": {},
   "outputs": [
    {
     "data": {
      "text/html": [
       "<div>\n",
       "<style scoped>\n",
       "    .dataframe tbody tr th:only-of-type {\n",
       "        vertical-align: middle;\n",
       "    }\n",
       "\n",
       "    .dataframe tbody tr th {\n",
       "        vertical-align: top;\n",
       "    }\n",
       "\n",
       "    .dataframe thead th {\n",
       "        text-align: right;\n",
       "    }\n",
       "</style>\n",
       "<table border=\"1\" class=\"dataframe\">\n",
       "  <thead>\n",
       "    <tr style=\"text-align: right;\">\n",
       "      <th></th>\n",
       "      <th>Date</th>\n",
       "      <th>High</th>\n",
       "      <th>Low</th>\n",
       "      <th>Currency</th>\n",
       "    </tr>\n",
       "  </thead>\n",
       "  <tbody>\n",
       "    <tr>\n",
       "      <th>0</th>\n",
       "      <td>2000-01-04</td>\n",
       "      <td>281.00</td>\n",
       "      <td>281.0</td>\n",
       "      <td>USD</td>\n",
       "    </tr>\n",
       "    <tr>\n",
       "      <th>1</th>\n",
       "      <td>2000-01-05</td>\n",
       "      <td>283.20</td>\n",
       "      <td>283.2</td>\n",
       "      <td>USD</td>\n",
       "    </tr>\n",
       "    <tr>\n",
       "      <th>2</th>\n",
       "      <td>2000-01-06</td>\n",
       "      <td>281.40</td>\n",
       "      <td>281.4</td>\n",
       "      <td>USD</td>\n",
       "    </tr>\n",
       "    <tr>\n",
       "      <th>3</th>\n",
       "      <td>2000-01-07</td>\n",
       "      <td>281.90</td>\n",
       "      <td>281.9</td>\n",
       "      <td>USD</td>\n",
       "    </tr>\n",
       "    <tr>\n",
       "      <th>4</th>\n",
       "      <td>2000-01-10</td>\n",
       "      <td>281.70</td>\n",
       "      <td>281.7</td>\n",
       "      <td>USD</td>\n",
       "    </tr>\n",
       "    <tr>\n",
       "      <th>...</th>\n",
       "      <td>...</td>\n",
       "      <td>...</td>\n",
       "      <td>...</td>\n",
       "      <td>...</td>\n",
       "    </tr>\n",
       "    <tr>\n",
       "      <th>5701</th>\n",
       "      <td>2022-04-13</td>\n",
       "      <td>1985.80</td>\n",
       "      <td>1966.3</td>\n",
       "      <td>USD</td>\n",
       "    </tr>\n",
       "    <tr>\n",
       "      <th>5702</th>\n",
       "      <td>2022-04-14</td>\n",
       "      <td>1984.00</td>\n",
       "      <td>1962.7</td>\n",
       "      <td>USD</td>\n",
       "    </tr>\n",
       "    <tr>\n",
       "      <th>5703</th>\n",
       "      <td>2022-04-18</td>\n",
       "      <td>2003.00</td>\n",
       "      <td>1974.4</td>\n",
       "      <td>USD</td>\n",
       "    </tr>\n",
       "    <tr>\n",
       "      <th>5704</th>\n",
       "      <td>2022-04-19</td>\n",
       "      <td>1985.10</td>\n",
       "      <td>1945.5</td>\n",
       "      <td>USD</td>\n",
       "    </tr>\n",
       "    <tr>\n",
       "      <th>5705</th>\n",
       "      <td>2022-04-20</td>\n",
       "      <td>1957.35</td>\n",
       "      <td>1941.2</td>\n",
       "      <td>USD</td>\n",
       "    </tr>\n",
       "  </tbody>\n",
       "</table>\n",
       "<p>5706 rows × 4 columns</p>\n",
       "</div>"
      ],
      "text/plain": [
       "            Date     High     Low Currency\n",
       "0     2000-01-04   281.00   281.0      USD\n",
       "1     2000-01-05   283.20   283.2      USD\n",
       "2     2000-01-06   281.40   281.4      USD\n",
       "3     2000-01-07   281.90   281.9      USD\n",
       "4     2000-01-10   281.70   281.7      USD\n",
       "...          ...      ...     ...      ...\n",
       "5701  2022-04-13  1985.80  1966.3      USD\n",
       "5702  2022-04-14  1984.00  1962.7      USD\n",
       "5703  2022-04-18  2003.00  1974.4      USD\n",
       "5704  2022-04-19  1985.10  1945.5      USD\n",
       "5705  2022-04-20  1957.35  1941.2      USD\n",
       "\n",
       "[5706 rows x 4 columns]"
      ]
     },
     "execution_count": 56,
     "metadata": {},
     "output_type": "execute_result"
    }
   ],
   "source": [
    "df2"
   ]
  },
  {
   "cell_type": "code",
   "execution_count": 75,
   "id": "bb5256e7",
   "metadata": {},
   "outputs": [
    {
     "data": {
      "text/plain": [
       "9651945"
      ]
     },
     "execution_count": 75,
     "metadata": {},
     "output_type": "execute_result"
    }
   ],
   "source": [
    "df['Volume'].sum()"
   ]
  },
  {
   "cell_type": "code",
   "execution_count": null,
   "id": "ab72b47c",
   "metadata": {},
   "outputs": [],
   "source": []
  }
 ],
 "metadata": {
  "kernelspec": {
   "display_name": "Python 3 (ipykernel)",
   "language": "python",
   "name": "python3"
  },
  "language_info": {
   "codemirror_mode": {
    "name": "ipython",
    "version": 3
   },
   "file_extension": ".py",
   "mimetype": "text/x-python",
   "name": "python",
   "nbconvert_exporter": "python",
   "pygments_lexer": "ipython3",
   "version": "3.9.7"
  }
 },
 "nbformat": 4,
 "nbformat_minor": 5
}
